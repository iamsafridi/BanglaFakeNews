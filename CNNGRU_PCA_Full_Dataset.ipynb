{
 "cells": [
  {
   "cell_type": "code",
   "execution_count": 1,
   "id": "architectural-swiss",
   "metadata": {},
   "outputs": [
    {
     "name": "stdout",
     "output_type": "stream",
     "text": [
      "[name: \"/device:CPU:0\"\n",
      "device_type: \"CPU\"\n",
      "memory_limit: 268435456\n",
      "locality {\n",
      "}\n",
      "incarnation: 2865660859841525414\n",
      "]\n"
     ]
    }
   ],
   "source": [
    "import keras\n",
    "from tensorflow.python.client import device_lib\n",
    "\n",
    "print(device_lib.list_local_devices())\n",
    "import numpy as np\n",
    "import pandas as pd\n",
    "from collections import defaultdict\n",
    "import re,string,unicodedata\n",
    "\n",
    "\n",
    "import sys\n",
    "import os\n",
    "\n",
    "from keras.preprocessing.text import Tokenizer\n",
    "from keras.preprocessing.sequence import pad_sequences\n",
    "from keras.utils.np_utils import to_categorical\n",
    "\n",
    "from keras.layers import Embedding\n",
    "from keras.layers import Dense, Input, Flatten\n",
    "from keras.layers import Conv1D, MaxPooling1D, Embedding, merge, Dropout\n",
    "from keras.models import Model\n",
    "import nltk\n",
    "from nltk.corpus import stopwords\n",
    "from nltk.stem.porter import PorterStemmer\n",
    "from nltk.stem import WordNetLemmatizer\n",
    "from nltk.tokenize import word_tokenize,sent_tokenize\n",
    "from nltk.tokenize.toktok import ToktokTokenizer\n",
    "from nltk.stem import PorterStemmer,WordNetLemmatizer\n",
    "from string import punctuation\n",
    "from nltk import pos_tag\n",
    "from nltk.corpus import wordnet\n",
    "\n",
    "MAX_SEQUENCE_LENGTH = 1000\n",
    "MAX_NB_WORDS = 200000\n",
    "EMBEDDING_DIM = 100\n"
   ]
  },
  {
   "cell_type": "code",
   "execution_count": 2,
   "id": "acceptable-basin",
   "metadata": {},
   "outputs": [],
   "source": [
    "def clean_str(string):\n",
    "    \"\"\"\n",
    "    Cleaning of dataset\n",
    "    \"\"\"\n",
    "    string = re.sub(r\"\\\\\", \"\", string)    \n",
    "    string = re.sub(r\"\\'\", \"\", string)    \n",
    "    string = re.sub(r\"\\\"\", \"\", string)    \n",
    "    return string.strip().lower()"
   ]
  },
  {
   "cell_type": "code",
   "execution_count": 3,
   "id": "circular-killing",
   "metadata": {},
   "outputs": [],
   "source": [
    "true = pd.read_csv(r'H:\\FakeNews\\Authentic-48K.csv', na_values=['#NAME?'])\n",
    "false = pd.read_csv(r'H:\\FakeNews\\Fake-1K.csv', na_values=['#NAME?'])"
   ]
  },
  {
   "cell_type": "code",
   "execution_count": 4,
   "id": "eight-encyclopedia",
   "metadata": {},
   "outputs": [
    {
     "data": {
      "text/html": [
       "<div>\n",
       "<style scoped>\n",
       "    .dataframe tbody tr th:only-of-type {\n",
       "        vertical-align: middle;\n",
       "    }\n",
       "\n",
       "    .dataframe tbody tr th {\n",
       "        vertical-align: top;\n",
       "    }\n",
       "\n",
       "    .dataframe thead th {\n",
       "        text-align: right;\n",
       "    }\n",
       "</style>\n",
       "<table border=\"1\" class=\"dataframe\">\n",
       "  <thead>\n",
       "    <tr style=\"text-align: right;\">\n",
       "      <th></th>\n",
       "      <th>articleID</th>\n",
       "      <th>domain</th>\n",
       "      <th>date</th>\n",
       "      <th>category</th>\n",
       "      <th>headline</th>\n",
       "      <th>content</th>\n",
       "      <th>label</th>\n",
       "    </tr>\n",
       "  </thead>\n",
       "  <tbody>\n",
       "    <tr>\n",
       "      <th>0</th>\n",
       "      <td>1</td>\n",
       "      <td>channeldhaka.news</td>\n",
       "      <td>2019-03-14T13:34:14+00:00</td>\n",
       "      <td>International</td>\n",
       "      <td>মুরগির হামলায় শেয়াল নিহত</td>\n",
       "      <td>বাংলায় একটা প্রবাদ আছে, শেয়ালের কাছে মুরগী বর্...</td>\n",
       "      <td>0</td>\n",
       "    </tr>\n",
       "    <tr>\n",
       "      <th>1</th>\n",
       "      <td>2</td>\n",
       "      <td>earki.com</td>\n",
       "      <td>সেম্বর ১৭, ২০১৮</td>\n",
       "      <td>Miscellaneous</td>\n",
       "      <td>বিটিভিতে যেবার আমি ইন্টারভিউ দিতে গেলাম</td>\n",
       "      <td>BTV থেকে লোকজন আসছে, ইন্টারভিউ নিবে।চারজনের টি...</td>\n",
       "      <td>0</td>\n",
       "    </tr>\n",
       "    <tr>\n",
       "      <th>2</th>\n",
       "      <td>3</td>\n",
       "      <td>earki.com</td>\n",
       "      <td>২০:৩৯, জানুয়ারি ১৪, ২০১৯</td>\n",
       "      <td>Miscellaneous</td>\n",
       "      <td>বিদেশ থেকে উন্নতমানের বিরোধীদল আমদানি করার পরা...</td>\n",
       "      <td>অদ্ভুত বিরোধীদলহীনতায় ভুগছে সরকার। এ এক অন্যরক...</td>\n",
       "      <td>0</td>\n",
       "    </tr>\n",
       "    <tr>\n",
       "      <th>3</th>\n",
       "      <td>4</td>\n",
       "      <td>channeldhaka.news</td>\n",
       "      <td>2018-06-30T15:56:47+00:00</td>\n",
       "      <td>Sports</td>\n",
       "      <td>অবসর নেয়ার ঘোষণা দিলেন মেসি !</td>\n",
       "      <td>রাশিয়া বিশ্বকাপ নকআউট পর্বে ফ্রান্সের সাথে ৪-৩...</td>\n",
       "      <td>0</td>\n",
       "    </tr>\n",
       "    <tr>\n",
       "      <th>4</th>\n",
       "      <td>5</td>\n",
       "      <td>motikontho.wordpress.com</td>\n",
       "      <td>2013-03-05T21:55:45+00:00</td>\n",
       "      <td>Miscellaneous</td>\n",
       "      <td>মাদারফাকার নহে, ব্রাদারফাকার: সাকা | দৈনিক মতি...</td>\n",
       "      <td>নিজস্ব মতিবেদক‘মাদারফাকার নহে, আমি ব্রাদারফাকা...</td>\n",
       "      <td>0</td>\n",
       "    </tr>\n",
       "    <tr>\n",
       "      <th>...</th>\n",
       "      <td>...</td>\n",
       "      <td>...</td>\n",
       "      <td>...</td>\n",
       "      <td>...</td>\n",
       "      <td>...</td>\n",
       "      <td>...</td>\n",
       "      <td>...</td>\n",
       "    </tr>\n",
       "    <tr>\n",
       "      <th>49972</th>\n",
       "      <td>61776</td>\n",
       "      <td>banglanews24.com</td>\n",
       "      <td>2018-10-11 16:39:23</td>\n",
       "      <td>Sports</td>\n",
       "      <td>এনসিএলে তিতলির প্রভাব, সব ম্যাচ ড্র</td>\n",
       "      <td>প্রথমে বাংলাদেশের কাছ দিয়ে যাওয়ার কথা থাকলেও ঘ...</td>\n",
       "      <td>1</td>\n",
       "    </tr>\n",
       "    <tr>\n",
       "      <th>49973</th>\n",
       "      <td>61777</td>\n",
       "      <td>banglanews24.com</td>\n",
       "      <td>2018-10-11 16:39:27</td>\n",
       "      <td>International</td>\n",
       "      <td>কর্ম-বসবাসে সেরা সিঙ্গাপুর, আয়ে সুইজারল্যান্ড</td>\n",
       "      <td>উন্নত জীবনযাপনের জন্য অনেকেই বিদেশে পাড়ি দেন। ...</td>\n",
       "      <td>1</td>\n",
       "    </tr>\n",
       "    <tr>\n",
       "      <th>49974</th>\n",
       "      <td>61778</td>\n",
       "      <td>banglanews24.com</td>\n",
       "      <td>2018-10-11 16:39:30</td>\n",
       "      <td>Politics</td>\n",
       "      <td>জয়পুরহাটে জামায়াতের ১৯ নেতাকর্মী আটক</td>\n",
       "      <td>জয়পুরহাট: সরকার বিরোধী গোপন বৈঠকের সময় জয়পুরহা...</td>\n",
       "      <td>1</td>\n",
       "    </tr>\n",
       "    <tr>\n",
       "      <th>49975</th>\n",
       "      <td>61779</td>\n",
       "      <td>banglanews24.com</td>\n",
       "      <td>2018-10-11 16:39:32</td>\n",
       "      <td>National</td>\n",
       "      <td>ভ্যানগার্ড পোশাক কারখানাকে জরিমানা</td>\n",
       "      <td>চট্টগ্রাম: পরিবেশ দূষণের দায়ে নগরের আগ্রাবাদ এ...</td>\n",
       "      <td>1</td>\n",
       "    </tr>\n",
       "    <tr>\n",
       "      <th>49976</th>\n",
       "      <td>61780</td>\n",
       "      <td>banglanews24.com</td>\n",
       "      <td>2018-10-11 16:39:36</td>\n",
       "      <td>National</td>\n",
       "      <td>উল্লাপাড়ায় ভেজাল সার-কীটনাশক তৈরির কারখানা সিল...</td>\n",
       "      <td>সিরাজগঞ্জ: সিরাজগঞ্জের উল্লাপাড়ায় অভিযান চালিয়...</td>\n",
       "      <td>1</td>\n",
       "    </tr>\n",
       "  </tbody>\n",
       "</table>\n",
       "<p>49977 rows × 7 columns</p>\n",
       "</div>"
      ],
      "text/plain": [
       "       articleID                    domain                        date  \\\n",
       "0              1         channeldhaka.news   2019-03-14T13:34:14+00:00   \n",
       "1              2                 earki.com            সেম্বর ১৭, ২০১৮    \n",
       "2              3                 earki.com  ২০:৩৯, জানুয়ারি ১৪, ২০১৯    \n",
       "3              4         channeldhaka.news   2018-06-30T15:56:47+00:00   \n",
       "4              5  motikontho.wordpress.com   2013-03-05T21:55:45+00:00   \n",
       "...          ...                       ...                         ...   \n",
       "49972      61776          banglanews24.com         2018-10-11 16:39:23   \n",
       "49973      61777          banglanews24.com         2018-10-11 16:39:27   \n",
       "49974      61778          banglanews24.com         2018-10-11 16:39:30   \n",
       "49975      61779          banglanews24.com         2018-10-11 16:39:32   \n",
       "49976      61780          banglanews24.com         2018-10-11 16:39:36   \n",
       "\n",
       "            category                                           headline  \\\n",
       "0      International                           মুরগির হামলায় শেয়াল নিহত   \n",
       "1      Miscellaneous            বিটিভিতে যেবার আমি ইন্টারভিউ দিতে গেলাম   \n",
       "2      Miscellaneous  বিদেশ থেকে উন্নতমানের বিরোধীদল আমদানি করার পরা...   \n",
       "3             Sports                      অবসর নেয়ার ঘোষণা দিলেন মেসি !   \n",
       "4      Miscellaneous  মাদারফাকার নহে, ব্রাদারফাকার: সাকা | দৈনিক মতি...   \n",
       "...              ...                                                ...   \n",
       "49972         Sports                এনসিএলে তিতলির প্রভাব, সব ম্যাচ ড্র   \n",
       "49973  International      কর্ম-বসবাসে সেরা সিঙ্গাপুর, আয়ে সুইজারল্যান্ড   \n",
       "49974       Politics               জয়পুরহাটে জামায়াতের ১৯ নেতাকর্মী আটক   \n",
       "49975       National                 ভ্যানগার্ড পোশাক কারখানাকে জরিমানা   \n",
       "49976       National  উল্লাপাড়ায় ভেজাল সার-কীটনাশক তৈরির কারখানা সিল...   \n",
       "\n",
       "                                                 content  label  \n",
       "0      বাংলায় একটা প্রবাদ আছে, শেয়ালের কাছে মুরগী বর্...      0  \n",
       "1      BTV থেকে লোকজন আসছে, ইন্টারভিউ নিবে।চারজনের টি...      0  \n",
       "2      অদ্ভুত বিরোধীদলহীনতায় ভুগছে সরকার। এ এক অন্যরক...      0  \n",
       "3      রাশিয়া বিশ্বকাপ নকআউট পর্বে ফ্রান্সের সাথে ৪-৩...      0  \n",
       "4      নিজস্ব মতিবেদক‘মাদারফাকার নহে, আমি ব্রাদারফাকা...      0  \n",
       "...                                                  ...    ...  \n",
       "49972  প্রথমে বাংলাদেশের কাছ দিয়ে যাওয়ার কথা থাকলেও ঘ...      1  \n",
       "49973  উন্নত জীবনযাপনের জন্য অনেকেই বিদেশে পাড়ি দেন। ...      1  \n",
       "49974  জয়পুরহাট: সরকার বিরোধী গোপন বৈঠকের সময় জয়পুরহা...      1  \n",
       "49975  চট্টগ্রাম: পরিবেশ দূষণের দায়ে নগরের আগ্রাবাদ এ...      1  \n",
       "49976  সিরাজগঞ্জ: সিরাজগঞ্জের উল্লাপাড়ায় অভিযান চালিয়...      1  \n",
       "\n",
       "[49977 rows x 7 columns]"
      ]
     },
     "execution_count": 4,
     "metadata": {},
     "output_type": "execute_result"
    }
   ],
   "source": [
    "data_train = pd.concat([false, true], ignore_index=True, sort=False)\n",
    "data_train"
   ]
  },
  {
   "cell_type": "code",
   "execution_count": 5,
   "id": "judicial-anaheim",
   "metadata": {},
   "outputs": [],
   "source": [
    "del data_train['date']\n",
    "del data_train['articleID']\n",
    "del data_train['domain']\n",
    "del data_train['category']"
   ]
  },
  {
   "cell_type": "code",
   "execution_count": 6,
   "id": "relative-mixer",
   "metadata": {},
   "outputs": [
    {
     "data": {
      "text/html": [
       "<div>\n",
       "<style scoped>\n",
       "    .dataframe tbody tr th:only-of-type {\n",
       "        vertical-align: middle;\n",
       "    }\n",
       "\n",
       "    .dataframe tbody tr th {\n",
       "        vertical-align: top;\n",
       "    }\n",
       "\n",
       "    .dataframe thead th {\n",
       "        text-align: right;\n",
       "    }\n",
       "</style>\n",
       "<table border=\"1\" class=\"dataframe\">\n",
       "  <thead>\n",
       "    <tr style=\"text-align: right;\">\n",
       "      <th></th>\n",
       "      <th>headline</th>\n",
       "      <th>content</th>\n",
       "      <th>label</th>\n",
       "    </tr>\n",
       "  </thead>\n",
       "  <tbody>\n",
       "    <tr>\n",
       "      <th>0</th>\n",
       "      <td>মুরগির হামলায় শেয়াল নিহত</td>\n",
       "      <td>বাংলায় একটা প্রবাদ আছে, শেয়ালের কাছে মুরগী বর্...</td>\n",
       "      <td>0</td>\n",
       "    </tr>\n",
       "    <tr>\n",
       "      <th>1</th>\n",
       "      <td>বিটিভিতে যেবার আমি ইন্টারভিউ দিতে গেলাম</td>\n",
       "      <td>BTV থেকে লোকজন আসছে, ইন্টারভিউ নিবে।চারজনের টি...</td>\n",
       "      <td>0</td>\n",
       "    </tr>\n",
       "    <tr>\n",
       "      <th>2</th>\n",
       "      <td>বিদেশ থেকে উন্নতমানের বিরোধীদল আমদানি করার পরা...</td>\n",
       "      <td>অদ্ভুত বিরোধীদলহীনতায় ভুগছে সরকার। এ এক অন্যরক...</td>\n",
       "      <td>0</td>\n",
       "    </tr>\n",
       "    <tr>\n",
       "      <th>3</th>\n",
       "      <td>অবসর নেয়ার ঘোষণা দিলেন মেসি !</td>\n",
       "      <td>রাশিয়া বিশ্বকাপ নকআউট পর্বে ফ্রান্সের সাথে ৪-৩...</td>\n",
       "      <td>0</td>\n",
       "    </tr>\n",
       "    <tr>\n",
       "      <th>4</th>\n",
       "      <td>মাদারফাকার নহে, ব্রাদারফাকার: সাকা | দৈনিক মতি...</td>\n",
       "      <td>নিজস্ব মতিবেদক‘মাদারফাকার নহে, আমি ব্রাদারফাকা...</td>\n",
       "      <td>0</td>\n",
       "    </tr>\n",
       "    <tr>\n",
       "      <th>...</th>\n",
       "      <td>...</td>\n",
       "      <td>...</td>\n",
       "      <td>...</td>\n",
       "    </tr>\n",
       "    <tr>\n",
       "      <th>49972</th>\n",
       "      <td>এনসিএলে তিতলির প্রভাব, সব ম্যাচ ড্র</td>\n",
       "      <td>প্রথমে বাংলাদেশের কাছ দিয়ে যাওয়ার কথা থাকলেও ঘ...</td>\n",
       "      <td>1</td>\n",
       "    </tr>\n",
       "    <tr>\n",
       "      <th>49973</th>\n",
       "      <td>কর্ম-বসবাসে সেরা সিঙ্গাপুর, আয়ে সুইজারল্যান্ড</td>\n",
       "      <td>উন্নত জীবনযাপনের জন্য অনেকেই বিদেশে পাড়ি দেন। ...</td>\n",
       "      <td>1</td>\n",
       "    </tr>\n",
       "    <tr>\n",
       "      <th>49974</th>\n",
       "      <td>জয়পুরহাটে জামায়াতের ১৯ নেতাকর্মী আটক</td>\n",
       "      <td>জয়পুরহাট: সরকার বিরোধী গোপন বৈঠকের সময় জয়পুরহা...</td>\n",
       "      <td>1</td>\n",
       "    </tr>\n",
       "    <tr>\n",
       "      <th>49975</th>\n",
       "      <td>ভ্যানগার্ড পোশাক কারখানাকে জরিমানা</td>\n",
       "      <td>চট্টগ্রাম: পরিবেশ দূষণের দায়ে নগরের আগ্রাবাদ এ...</td>\n",
       "      <td>1</td>\n",
       "    </tr>\n",
       "    <tr>\n",
       "      <th>49976</th>\n",
       "      <td>উল্লাপাড়ায় ভেজাল সার-কীটনাশক তৈরির কারখানা সিল...</td>\n",
       "      <td>সিরাজগঞ্জ: সিরাজগঞ্জের উল্লাপাড়ায় অভিযান চালিয়...</td>\n",
       "      <td>1</td>\n",
       "    </tr>\n",
       "  </tbody>\n",
       "</table>\n",
       "<p>49977 rows × 3 columns</p>\n",
       "</div>"
      ],
      "text/plain": [
       "                                                headline  \\\n",
       "0                               মুরগির হামলায় শেয়াল নিহত   \n",
       "1                বিটিভিতে যেবার আমি ইন্টারভিউ দিতে গেলাম   \n",
       "2      বিদেশ থেকে উন্নতমানের বিরোধীদল আমদানি করার পরা...   \n",
       "3                          অবসর নেয়ার ঘোষণা দিলেন মেসি !   \n",
       "4      মাদারফাকার নহে, ব্রাদারফাকার: সাকা | দৈনিক মতি...   \n",
       "...                                                  ...   \n",
       "49972                এনসিএলে তিতলির প্রভাব, সব ম্যাচ ড্র   \n",
       "49973      কর্ম-বসবাসে সেরা সিঙ্গাপুর, আয়ে সুইজারল্যান্ড   \n",
       "49974               জয়পুরহাটে জামায়াতের ১৯ নেতাকর্মী আটক   \n",
       "49975                 ভ্যানগার্ড পোশাক কারখানাকে জরিমানা   \n",
       "49976  উল্লাপাড়ায় ভেজাল সার-কীটনাশক তৈরির কারখানা সিল...   \n",
       "\n",
       "                                                 content  label  \n",
       "0      বাংলায় একটা প্রবাদ আছে, শেয়ালের কাছে মুরগী বর্...      0  \n",
       "1      BTV থেকে লোকজন আসছে, ইন্টারভিউ নিবে।চারজনের টি...      0  \n",
       "2      অদ্ভুত বিরোধীদলহীনতায় ভুগছে সরকার। এ এক অন্যরক...      0  \n",
       "3      রাশিয়া বিশ্বকাপ নকআউট পর্বে ফ্রান্সের সাথে ৪-৩...      0  \n",
       "4      নিজস্ব মতিবেদক‘মাদারফাকার নহে, আমি ব্রাদারফাকা...      0  \n",
       "...                                                  ...    ...  \n",
       "49972  প্রথমে বাংলাদেশের কাছ দিয়ে যাওয়ার কথা থাকলেও ঘ...      1  \n",
       "49973  উন্নত জীবনযাপনের জন্য অনেকেই বিদেশে পাড়ি দেন। ...      1  \n",
       "49974  জয়পুরহাট: সরকার বিরোধী গোপন বৈঠকের সময় জয়পুরহা...      1  \n",
       "49975  চট্টগ্রাম: পরিবেশ দূষণের দায়ে নগরের আগ্রাবাদ এ...      1  \n",
       "49976  সিরাজগঞ্জ: সিরাজগঞ্জের উল্লাপাড়ায় অভিযান চালিয়...      1  \n",
       "\n",
       "[49977 rows x 3 columns]"
      ]
     },
     "execution_count": 6,
     "metadata": {},
     "output_type": "execute_result"
    }
   ],
   "source": [
    "data_train"
   ]
  },
  {
   "cell_type": "code",
   "execution_count": 7,
   "id": "congressional-continent",
   "metadata": {},
   "outputs": [
    {
     "name": "stderr",
     "output_type": "stream",
     "text": [
      "[nltk_data] Downloading package stopwords to\n",
      "[nltk_data]     C:\\Users\\u\\AppData\\Roaming\\nltk_data...\n",
      "[nltk_data]   Unzipping corpora\\stopwords.zip.\n"
     ]
    }
   ],
   "source": [
    "nltk.download('stopwords')\n",
    "stop = set(stopwords.words('bangla'))\n",
    "punctuation = list(string.punctuation)\n",
    "stop.update(punctuation)"
   ]
  },
  {
   "cell_type": "code",
   "execution_count": 8,
   "id": "integral-advancement",
   "metadata": {},
   "outputs": [],
   "source": [
    "stemmer = PorterStemmer()\n",
    "def stem_text(content):\n",
    "    final_text = []\n",
    "    for i in content.split():\n",
    "        if i.strip().lower() not in stop:\n",
    "            word = stemmer.stem(i.strip())\n",
    "            final_text.append(word)\n",
    "    return \" \".join(final_text)  "
   ]
  },
  {
   "cell_type": "code",
   "execution_count": 9,
   "id": "excessive-greece",
   "metadata": {},
   "outputs": [],
   "source": [
    "data_train.content = data_train.content.apply(stem_text)"
   ]
  },
  {
   "cell_type": "code",
   "execution_count": 10,
   "id": "western-stations",
   "metadata": {},
   "outputs": [],
   "source": [
    "stemmer = PorterStemmer()\n",
    "def stem_text(headline):\n",
    "    final_text = []\n",
    "    for i in headline.split():\n",
    "        if i.strip().lower() not in stop:\n",
    "            word = stemmer.stem(i.strip())\n",
    "            final_text.append(word)\n",
    "    return \" \".join(final_text)  "
   ]
  },
  {
   "cell_type": "code",
   "execution_count": 11,
   "id": "likely-bench",
   "metadata": {},
   "outputs": [],
   "source": [
    "data_train.content = data_train.headline.apply(stem_text)"
   ]
  },
  {
   "cell_type": "code",
   "execution_count": 12,
   "id": "billion-nicaragua",
   "metadata": {},
   "outputs": [
    {
     "name": "stdout",
     "output_type": "stream",
     "text": [
      "Index(['headline', 'content', 'label'], dtype='object')\n",
      "What the raw input data looks like:\n",
      "                                            headline  \\\n",
      "0                           মুরগির হামলায় শেয়াল নিহত   \n",
      "1            বিটিভিতে যেবার আমি ইন্টারভিউ দিতে গেলাম   \n",
      "2  বিদেশ থেকে উন্নতমানের বিরোধীদল আমদানি করার পরা...   \n",
      "3                      অবসর নেয়ার ঘোষণা দিলেন মেসি !   \n",
      "4  মাদারফাকার নহে, ব্রাদারফাকার: সাকা | দৈনিক মতি...   \n",
      "\n",
      "                                             content  label  \n",
      "0                           মুরগির হামলায় শেয়াল নিহত      0  \n",
      "1                     বিটিভিতে যেবার ইন্টারভিউ গেলাম      0  \n",
      "2  বিদেশ উন্নতমানের বিরোধীদল আমদানি পরামর্শ অনলাই...      0  \n",
      "3                              অবসর নেয়ার ঘোষণা মেসি      0  \n",
      "4   মাদারফাকার নহে, ব্রাদারফাকার: সাকা দৈনিক মতিকণ্ঠ      0  \n",
      "Found 72355 unique tokens.\n"
     ]
    }
   ],
   "source": [
    "# Input Data preprocessing\n",
    "data_train = data_train\n",
    "print(data_train.columns)\n",
    "print('What the raw input data looks like:')\n",
    "print(data_train[0:5])\n",
    "texts = []\n",
    "labels = []\n",
    "\n",
    "for i in range(data_train.content.shape[0]):\n",
    "    text1 = data_train.headline[i]\n",
    "    text2 = data_train.content[i]\n",
    "    text = str(text1) +\"\"+ str(text2)\n",
    "    texts.append(text)\n",
    "    labels.append(data_train.label[i])\n",
    "    \n",
    "tokenizer = Tokenizer(num_words=MAX_NB_WORDS)\n",
    "tokenizer.fit_on_texts(texts)\n",
    "sequences = tokenizer.texts_to_sequences(texts)\n",
    "\n",
    "word_index = tokenizer.word_index\n",
    "print('Found %s unique tokens.' % len(word_index))"
   ]
  },
  {
   "cell_type": "code",
   "execution_count": 13,
   "id": "acting-spider",
   "metadata": {},
   "outputs": [
    {
     "name": "stdout",
     "output_type": "stream",
     "text": [
      "Shape of data tensor: (49977, 1000)\n",
      "Shape of label tensor: (49977, 2)\n"
     ]
    }
   ],
   "source": [
    "# Pad input sequences\n",
    "data = pad_sequences(sequences, maxlen=MAX_SEQUENCE_LENGTH)\n",
    "labels = to_categorical(np.asarray(labels),num_classes = 2)\n",
    "print('Shape of data tensor:', data.shape)\n",
    "print('Shape of label tensor:', labels.shape)"
   ]
  },
  {
   "cell_type": "code",
   "execution_count": 14,
   "id": "awful-oracle",
   "metadata": {},
   "outputs": [
    {
     "name": "stdout",
     "output_type": "stream",
     "text": [
      "Size of train, validation, test: 39981 4998 4998\n",
      "real & fake news in train,valt,test:\n",
      "[ 1011. 38970.]\n",
      "[ 157. 4841.]\n",
      "[ 131. 4867.]\n"
     ]
    }
   ],
   "source": [
    "from sklearn.model_selection import train_test_split\n",
    "\n",
    "indices = np.arange(data.shape[0])\n",
    "np.random.shuffle(indices)\n",
    "data = data[indices]\n",
    "labels = labels[indices]\n",
    "x_train, x_test, y_train, y_test = train_test_split( data, labels, test_size=0.20, random_state=42)\n",
    "x_test, x_val, y_test, y_val = train_test_split( x_test, y_test, test_size=0.50, random_state=42)\n",
    "print('Size of train, validation, test:', len(y_train), len(y_val), len(y_test))\n",
    "\n",
    "print('real & fake news in train,valt,test:')\n",
    "print(y_train.sum(axis=0))\n",
    "print(y_val.sum(axis=0))\n",
    "print(y_test.sum(axis=0))"
   ]
  },
  {
   "cell_type": "code",
   "execution_count": 15,
   "id": "informal-continuity",
   "metadata": {},
   "outputs": [],
   "source": [
    "from keras.models import Sequential\n",
    "from keras.layers.convolutional import Conv3D\n",
    "from keras.layers.convolutional_recurrent import ConvLSTM2D\n",
    "from keras.layers.normalization import BatchNormalization"
   ]
  },
  {
   "cell_type": "code",
   "execution_count": 16,
   "id": "chinese-jumping",
   "metadata": {},
   "outputs": [],
   "source": [
    "import numpy as np\n",
    "from matplotlib import pyplot as plt\n",
    "from keras.layers import Dense, Embedding, LSTM, GRU\n",
    "\n",
    "%matplotlib inline"
   ]
  },
  {
   "cell_type": "code",
   "execution_count": 17,
   "id": "surface-merchant",
   "metadata": {},
   "outputs": [
    {
     "name": "stdout",
     "output_type": "stream",
     "text": [
      "Total 178153 word vectors in Glove.\n"
     ]
    }
   ],
   "source": [
    "#Using Pre-trained word embeddings\n",
    "GLOVE_DIR = \"H:\\FakeNews\" \n",
    "embeddings_index = {}\n",
    "f = open(os.path.join(GLOVE_DIR, 'bn_glove.39M.100d.txt'), encoding=\"utf8\")\n",
    "for line in f:\n",
    "    values = line.split()\n",
    "    #print(values[1:])\n",
    "    word = values[0]\n",
    "    coefs = np.asarray(values[1:], dtype='float32')\n",
    "    embeddings_index[word] = coefs\n",
    "f.close()\n",
    "\n",
    "print('Total %s word vectors in Glove.' % len(embeddings_index))\n",
    "\n",
    "embedding_matrix = np.random.random((len(word_index) + 1, EMBEDDING_DIM))\n",
    "for word, i in word_index.items():\n",
    "    embedding_vector = embeddings_index.get(word)\n",
    "    if embedding_vector is not None:\n",
    "        # words not found in embedding index will be all-zeros.\n",
    "        embedding_matrix[i] = embedding_vector\n",
    "        \n",
    "embedding_layer = Embedding(len(word_index) + 1,\n",
    "                            EMBEDDING_DIM,\n",
    "                            weights=[embedding_matrix],\n",
    "                            input_length=MAX_SEQUENCE_LENGTH)"
   ]
  },
  {
   "cell_type": "code",
   "execution_count": 18,
   "id": "adolescent-edmonton",
   "metadata": {},
   "outputs": [
    {
     "name": "stdout",
     "output_type": "stream",
     "text": [
      "Model: \"sequential\"\n",
      "_________________________________________________________________\n",
      "Layer (type)                 Output Shape              Param #   \n",
      "=================================================================\n",
      "embedding (Embedding)        (None, 1000, 100)         7235600   \n",
      "_________________________________________________________________\n",
      "dropout (Dropout)            (None, 1000, 100)         0         \n",
      "_________________________________________________________________\n",
      "conv1d (Conv1D)              (None, 1000, 32)          16032     \n",
      "_________________________________________________________________\n",
      "max_pooling1d (MaxPooling1D) (None, 500, 32)           0         \n",
      "_________________________________________________________________\n",
      "conv1d_1 (Conv1D)            (None, 500, 64)           6208      \n",
      "_________________________________________________________________\n",
      "max_pooling1d_1 (MaxPooling1 (None, 250, 64)           0         \n",
      "_________________________________________________________________\n",
      "gru (GRU)                    (None, 100)               49800     \n",
      "_________________________________________________________________\n",
      "batch_normalization (BatchNo (None, 100)               400       \n",
      "_________________________________________________________________\n",
      "dense (Dense)                (None, 2)                 202       \n",
      "=================================================================\n",
      "Total params: 7,308,242\n",
      "Trainable params: 7,308,042\n",
      "Non-trainable params: 200\n",
      "_________________________________________________________________\n",
      "None\n"
     ]
    }
   ],
   "source": [
    "embedding_vecor_length = 32\n",
    "modelh = Sequential()\n",
    "modelh.add(embedding_layer)\n",
    "modelh.add(Dropout(0.2))\n",
    "modelh.add(Conv1D(filters=32, kernel_size=5, padding='same', activation='relu'))\n",
    "modelh.add(MaxPooling1D(pool_size=2))\n",
    "modelh.add(Conv1D(filters=64, kernel_size=3, padding='same', activation='relu'))\n",
    "modelh.add(MaxPooling1D(pool_size=2))\n",
    "modelh.add(GRU(100, dropout=0.2, recurrent_dropout=0.2))\n",
    "###\n",
    "modelh.add(BatchNormalization())\n",
    "###\n",
    "#modelh.add(Dense(64, activation='relu'))\n",
    "modelh.add(Dense(2, activation='softmax'))\n",
    "modelh.compile(loss='binary_crossentropy', optimizer='adam', metrics=['accuracy'])\n",
    "print(modelh.summary())"
   ]
  },
  {
   "cell_type": "code",
   "execution_count": 19,
   "id": "convinced-shoulder",
   "metadata": {},
   "outputs": [
    {
     "data": {
      "image/png": "[encoded data removed]",
      "text/plain": [
       "<IPython.core.display.Image object>"
      ]
     },
     "execution_count": 19,
     "metadata": {},
     "output_type": "execute_result"
    }
   ],
   "source": [
    "from tensorflow.keras.utils import plot_model\n",
    "plot_model(modelh, to_file='modelh.png')"
   ]
  },
  {
   "cell_type": "code",
   "execution_count": 20,
   "id": "middle-missouri",
   "metadata": {},
   "outputs": [
    {
     "name": "stdout",
     "output_type": "stream",
     "text": [
      "Epoch 1/10\n",
      "313/313 [==============================] - 379s 1s/step - loss: 0.1963 - accuracy: 0.9494 - val_loss: 0.0743 - val_accuracy: 0.9810\n",
      "Epoch 2/10\n",
      "313/313 [==============================] - 355s 1s/step - loss: 0.0624 - accuracy: 0.9832 - val_loss: 0.0603 - val_accuracy: 0.9842\n",
      "Epoch 3/10\n",
      "313/313 [==============================] - 358s 1s/step - loss: 0.0456 - accuracy: 0.9872 - val_loss: 0.0539 - val_accuracy: 0.9852\n",
      "Epoch 4/10\n",
      "313/313 [==============================] - 357s 1s/step - loss: 0.0294 - accuracy: 0.9912 - val_loss: 0.0530 - val_accuracy: 0.9858\n",
      "Epoch 5/10\n",
      "313/313 [==============================] - 356s 1s/step - loss: 0.0163 - accuracy: 0.9953 - val_loss: 0.0563 - val_accuracy: 0.9870\n",
      "Epoch 6/10\n",
      "313/313 [==============================] - 357s 1s/step - loss: 0.0102 - accuracy: 0.9968 - val_loss: 0.0780 - val_accuracy: 0.9856\n",
      "Epoch 7/10\n",
      "313/313 [==============================] - 357s 1s/step - loss: 0.0077 - accuracy: 0.9976 - val_loss: 0.0991 - val_accuracy: 0.9854\n",
      "Epoch 8/10\n",
      "313/313 [==============================] - 356s 1s/step - loss: 0.0059 - accuracy: 0.9982 - val_loss: 0.0735 - val_accuracy: 0.9856\n",
      "Epoch 9/10\n",
      "313/313 [==============================] - 357s 1s/step - loss: 0.0041 - accuracy: 0.9987 - val_loss: 0.0733 - val_accuracy: 0.9874\n",
      "Epoch 10/10\n",
      "313/313 [==============================] - 362s 1s/step - loss: 0.0032 - accuracy: 0.9990 - val_loss: 0.0773 - val_accuracy: 0.9872\n"
     ]
    }
   ],
   "source": [
    "history = modelh.fit(x_train, y_train, epochs=10, validation_data=(x_test, y_test), batch_size=128)\n",
    "modelh.save('hybrid.h5')"
   ]
  },
  {
   "cell_type": "code",
   "execution_count": 21,
   "id": "patient-hotel",
   "metadata": {},
   "outputs": [
    {
     "data": {
      "image/png": "[encoded data removed]",
      "text/plain": [
       "<Figure size 432x288 with 1 Axes>"
      ]
     },
     "metadata": {
      "needs_background": "light"
     },
     "output_type": "display_data"
    },
    {
     "data": {
      "image/png": "[encoded data removed]",
      "text/plain": [
       "<Figure size 432x288 with 1 Axes>"
      ]
     },
     "metadata": {
      "needs_background": "light"
     },
     "output_type": "display_data"
    }
   ],
   "source": [
    "history_dict = history.history\n",
    "acc = history_dict['accuracy']\n",
    "val_acc = history_dict['val_accuracy']\n",
    "loss = history_dict['loss']\n",
    "val_loss = history_dict['val_loss']\n",
    "epochs = history.epoch\n",
    "\n",
    "#plt.figure(figsize=(9,6))\n",
    "plt.plot(epochs, loss, 'r', label='Training loss')\n",
    "plt.plot(epochs, val_loss, 'b', label='Validation loss')\n",
    "#plt.title('Training and validation loss', size=10)\n",
    "plt.xlabel('Epochs', size=20)\n",
    "plt.ylabel('Loss', size=20)\n",
    "plt.legend(prop={'size': 10})\n",
    "plt.show()\n",
    "\n",
    "#plt.figure(figsize=(9,6))\n",
    "plt.plot(epochs, acc, 'r', label='Training accuracy')\n",
    "plt.plot(epochs, val_acc, 'b', label='Validation accuracy')\n",
    "#plt.title('Training and validation accuracy', size=10)\n",
    "plt.xlabel('Epochs', size=20)\n",
    "plt.ylabel('Accuracy', size=20)\n",
    "plt.legend(prop={'size': 10})\n",
    "#plt.ylim((0.5,1))\n",
    "plt.show()"
   ]
  },
  {
   "cell_type": "code",
   "execution_count": 22,
   "id": "composed-receiver",
   "metadata": {},
   "outputs": [
    {
     "name": "stdout",
     "output_type": "stream",
     "text": [
      "Correct predictions: 4934.0\n",
      "Total number of test examples: 4998\n",
      "Accuracy of model1:  0.9871948779511804\n"
     ]
    },
    {
     "data": {
      "image/png": "[encoded data removed]",
      "text/plain": [
       "<Figure size 288x288 with 2 Axes>"
      ]
     },
     "metadata": {
      "needs_background": "light"
     },
     "output_type": "display_data"
    },
    {
     "data": {
      "text/plain": [
       "<AxesSubplot:>"
      ]
     },
     "execution_count": 22,
     "metadata": {},
     "output_type": "execute_result"
    },
    {
     "data": {
      "image/png": "[encoded data removed]",
      "text/plain": [
       "<Figure size 432x288 with 2 Axes>"
      ]
     },
     "metadata": {},
     "output_type": "display_data"
    }
   ],
   "source": [
    "# Test model 1\n",
    "import seaborn as sns\n",
    "test_preds = modelh.predict(x_test)\n",
    "test_preds = np.round(test_preds)\n",
    "correct_predictions = float(sum(test_preds == y_test)[0])\n",
    "print(\"Correct predictions:\", correct_predictions)\n",
    "print(\"Total number of test examples:\", len(y_test))\n",
    "print(\"Accuracy of model1: \", correct_predictions/float(len(y_test)))\n",
    "\n",
    "# Creating the Confusion Matrix\n",
    "from sklearn.metrics import confusion_matrix, classification_report\n",
    "x_pred = modelh.predict(x_test)\n",
    "x_pred = np.round(x_pred)\n",
    "x_pred = x_pred.argmax(1)\n",
    "y_test_s = y_test.argmax(1)\n",
    "cm = confusion_matrix(y_test_s, x_pred)\n",
    "plt.matshow(cm, cmap=plt.cm.binary, interpolation='nearest')\n",
    "plt.title('Confusion matrix - modelh')\n",
    "plt.colorbar()\n",
    "plt.ylabel('expected label')\n",
    "plt.xlabel('predicted label')\n",
    "plt.show()\n",
    "sns.set(font_scale=1.4)#for label size\n",
    "sns.heatmap(cm,annot=True,annot_kws={\"size\": 16},fmt='1f')# font size"
   ]
  },
  {
   "cell_type": "code",
   "execution_count": 23,
   "id": "front-illustration",
   "metadata": {},
   "outputs": [
    {
     "name": "stdout",
     "output_type": "stream",
     "text": [
      "              precision    recall  f1-score   support\n",
      "\n",
      "           0       0.89      0.58      0.70       131\n",
      "           1       0.99      1.00      0.99      4867\n",
      "\n",
      "   micro avg       0.99      0.99      0.99      4998\n",
      "   macro avg       0.94      0.79      0.85      4998\n",
      "weighted avg       0.99      0.99      0.99      4998\n",
      " samples avg       0.99      0.99      0.99      4998\n",
      "\n"
     ]
    }
   ],
   "source": [
    "cv_report = classification_report(y_test,test_preds)\n",
    "print(cv_report)"
   ]
  },
  {
   "cell_type": "code",
   "execution_count": 24,
   "id": "liked-layout",
   "metadata": {},
   "outputs": [
    {
     "name": "stdout",
     "output_type": "stream",
     "text": [
      "AUC: 0.789\n"
     ]
    },
    {
     "data": {
      "image/png": "[encoded data removed]",
      "text/plain": [
       "<Figure size 432x288 with 1 Axes>"
      ]
     },
     "metadata": {},
     "output_type": "display_data"
    }
   ],
   "source": [
    "from sklearn.metrics import precision_recall_curve\n",
    "from sklearn.metrics import auc\n",
    "from sklearn.metrics import roc_curve\n",
    "from sklearn.metrics import roc_auc_score\n",
    "pos_probs = x_pred\n",
    "plt.plot([0, 1], [0, 1], linestyle='--')\n",
    "fpr, tpr, _ = roc_curve(y_test_s, pos_probs)\n",
    "\n",
    "# calculate AUC\n",
    "auc = roc_auc_score(y_test_s, pos_probs)\n",
    "print('AUC: %.3f' % auc)\n",
    "\n",
    "plt.plot(fpr, tpr, linestyle='-', label=('AUC= %.2f' % auc))\n",
    "plt.plot(fpr, tpr, marker='.', label='CNN+GRU')\n",
    "plt.xlabel('False Positive Rate')\n",
    "plt.ylabel('True Positive Rate')\n",
    "# show the legend\n",
    "plt.legend()\n",
    "# show the plot\n",
    "plt.show()"
   ]
  },
  {
   "cell_type": "code",
   "execution_count": null,
   "id": "capital-chess",
   "metadata": {},
   "outputs": [],
   "source": []
  }
 ],
 "metadata": {
  "kernelspec": {
   "display_name": "Python 3",
   "language": "python",
   "name": "python3"
  },
  "language_info": {
   "codemirror_mode": {
    "name": "ipython",
    "version": 3
   },
   "file_extension": ".py",
   "mimetype": "text/x-python",
   "name": "python",
   "nbconvert_exporter": "python",
   "pygments_lexer": "ipython3",
   "version": "3.8.8"
  }
 },
 "nbformat": 4,
 "nbformat_minor": 5
}
